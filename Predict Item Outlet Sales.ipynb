{
 "cells": [
  {
   "cell_type": "markdown",
   "id": "cc4187e5",
   "metadata": {},
   "source": [
    "# Linear Regression -- Machine Learning Model\n"
   ]
  },
  {
   "cell_type": "markdown",
   "id": "7073e047",
   "metadata": {},
   "source": [
    "Model to Predict Item Outlet Sales"
   ]
  },
  {
   "cell_type": "code",
   "execution_count": null,
   "id": "cb6ef8c0",
   "metadata": {},
   "outputs": [],
   "source": []
  }
 ],
 "metadata": {
  "kernelspec": {
   "display_name": "Python 3 (ipykernel)",
   "language": "python",
   "name": "python3"
  },
  "language_info": {
   "codemirror_mode": {
    "name": "ipython",
    "version": 3
   },
   "file_extension": ".py",
   "mimetype": "text/x-python",
   "name": "python",
   "nbconvert_exporter": "python",
   "pygments_lexer": "ipython3",
   "version": "3.9.7"
  }
 },
 "nbformat": 4,
 "nbformat_minor": 5
}
